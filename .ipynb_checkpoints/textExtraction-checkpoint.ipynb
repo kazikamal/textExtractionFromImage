{
 "cells": [
  {
   "cell_type": "code",
   "execution_count": 13,
   "id": "1f1d9926-eb52-4863-b18f-6e1af7c5c016",
   "metadata": {},
   "outputs": [],
   "source": [
    "from PIL import Image"
   ]
  },
  {
   "cell_type": "code",
   "execution_count": 17,
   "id": "d655faae-200d-4782-9c2a-c8658a8ff3f4",
   "metadata": {},
   "outputs": [
    {
     "name": "stdout",
     "output_type": "stream",
     "text": [
      "\n"
     ]
    }
   ],
   "source": [
    "import pytesseract as pt\n",
    "try:\n",
    "    # Open an image file\n",
    "    image_path = 'image5.jpg'  # Replace with your image path\n",
    "    image = Image.open(image_path)\n",
    "\n",
    "    # Use pytesseract to extract text\n",
    "    text = pt.image_to_string(image, lang = 'ben')\n",
    "\n",
    "    # Print the extracted text\n",
    "    print(text)\n",
    "except FileNotFoundError:\n",
    "    print(f\"File not found: {image_path}\")\n",
    "except pytesseract.pytesseract.TesseractError as e:\n",
    "    print(f\"Tesseract error: {e}\")\n",
    "except Exception as e:\n",
    "    print(f\"An error occurred: {e}\")"
   ]
  },
  {
   "cell_type": "code",
   "execution_count": null,
   "id": "28ec9b3c-dee9-4c8a-acf1-3dce533bd137",
   "metadata": {},
   "outputs": [],
   "source": []
  }
 ],
 "metadata": {
  "kernelspec": {
   "display_name": "Python 3 (ipykernel)",
   "language": "python",
   "name": "python3"
  },
  "language_info": {
   "codemirror_mode": {
    "name": "ipython",
    "version": 3
   },
   "file_extension": ".py",
   "mimetype": "text/x-python",
   "name": "python",
   "nbconvert_exporter": "python",
   "pygments_lexer": "ipython3",
   "version": "3.11.7"
  }
 },
 "nbformat": 4,
 "nbformat_minor": 5
}
