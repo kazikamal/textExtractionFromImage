{
 "cells": [
  {
   "cell_type": "code",
   "execution_count": 13,
   "id": "1f1d9926-eb52-4863-b18f-6e1af7c5c016",
   "metadata": {},
   "outputs": [],
   "source": [
    "from PIL import Image"
   ]
  },
  {
   "cell_type": "code",
   "execution_count": 23,
   "id": "d655faae-200d-4782-9c2a-c8658a8ff3f4",
   "metadata": {},
   "outputs": [
    {
     "name": "stdout",
     "output_type": "stream",
     "text": [
      "Recognized Text:\n",
      "৮]\n",
      "\n",
      "ভি ব\n",
      "\n",
      "ড় হাতে 420 পা\n",
      "\n",
      "\n"
     ]
    }
   ],
   "source": [
    "import pytesseract as pt\n",
    "from PIL import Image\n",
    "\n",
    "# Path to the image containing handwritten text\n",
    "image_path = \"image7.png\"\n",
    "\n",
    "# Open the image file using PIL\n",
    "image = Image.open(image_path)\n",
    "\n",
    "# Perform OCR on the image\n",
    "text = pytesseract.image_to_string(image, lang = 'ben')\n",
    "\n",
    "# Print the recognized text\n",
    "print(\"Recognized Text:\")\n",
    "print(text)\n"
   ]
  },
  {
   "cell_type": "code",
   "execution_count": null,
   "id": "28ec9b3c-dee9-4c8a-acf1-3dce533bd137",
   "metadata": {},
   "outputs": [],
   "source": []
  }
 ],
 "metadata": {
  "kernelspec": {
   "display_name": "Python 3 (ipykernel)",
   "language": "python",
   "name": "python3"
  },
  "language_info": {
   "codemirror_mode": {
    "name": "ipython",
    "version": 3
   },
   "file_extension": ".py",
   "mimetype": "text/x-python",
   "name": "python",
   "nbconvert_exporter": "python",
   "pygments_lexer": "ipython3",
   "version": "3.11.7"
  }
 },
 "nbformat": 4,
 "nbformat_minor": 5
}
